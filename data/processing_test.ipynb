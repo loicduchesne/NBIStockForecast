{
 "cells": [
  {
   "cell_type": "code",
   "execution_count": null,
   "id": "initial_id",
   "metadata": {
    "collapsed": true
   },
   "outputs": [],
   "source": [
    "# GENERATE THE COMBINED DATA (MERGING)\n",
    "from merge_df import get_df_market_data, get_df_resized_trade_data\n",
    "\n",
    "all_data = []\n",
    "for i in range(16, 21):\n",
    "    combined_data = get_df_market_data(f\"raw/Period{i}\")\n",
    "    merged_data = get_df_resized_trade_data(f\"raw/Period{i}\", combined_data)\n",
    "    all_data.append(merged_data)"
   ]
  },
  {
   "metadata": {},
   "cell_type": "code",
   "outputs": [],
   "execution_count": null,
   "source": [
    "# CREATING THE CSV FILES\n",
    "import os\n",
    "from add_label import add_label\n",
    "from resample import resample_data\n",
    "\n",
    "base_path = '../inputs/test'\n",
    "if not os.path.exists(base_path):\n",
    "    os.makedirs(base_path)\n",
    "\n",
    "stocks = ['A', 'B', 'C', 'D', 'E']\n",
    "\n",
    "for stock in stocks:\n",
    "    base_path_stock = os.path.join(base_path, stock)\n",
    "    for i in range(5):\n",
    "        # create a folder for each stock\n",
    "        if not os.path.exists(base_path_stock):\n",
    "            os.makedirs(base_path_stock)\n",
    "        current_df = all_data[i][stock]\n",
    "        # add labels\n",
    "        current_df = add_label(current_df, horizon=5000, down_threshold=-0.05, up_threshold=0.05)\n",
    "        # resample to remove some data points\n",
    "        current_df = resample_data(current_df, time_interval_str=\"3s\")\n",
    "        # save to csv\n",
    "        current_df.to_csv(os.path.join(base_path_stock, f\"{i+1}.csv\"))\n"
   ],
   "id": "ed5c8d7adce84bb5"
  }
 ],
 "metadata": {
  "kernelspec": {
   "display_name": "Python 3",
   "language": "python",
   "name": "python3"
  },
  "language_info": {
   "codemirror_mode": {
    "name": "ipython",
    "version": 2
   },
   "file_extension": ".py",
   "mimetype": "text/x-python",
   "name": "python",
   "nbconvert_exporter": "python",
   "pygments_lexer": "ipython2",
   "version": "2.7.6"
  }
 },
 "nbformat": 4,
 "nbformat_minor": 5
}
