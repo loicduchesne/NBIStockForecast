{
 "cells": [
  {
   "cell_type": "code",
   "id": "initial_id",
   "metadata": {
    "collapsed": true,
    "ExecuteTime": {
     "end_time": "2025-01-26T08:20:40.792863Z",
     "start_time": "2025-01-26T08:20:39.710528Z"
    }
   },
   "source": [
    "import numpy as np\n",
    "import pandas as pd\n",
    "\n",
    "import torch\n",
    "import torch.nn as nn\n",
    "from torch.utils.data import Dataset, DataLoader\n",
    "\n",
    "from tqdm.notebook import trange, tqdm"
   ],
   "outputs": [],
   "execution_count": 1
  },
  {
   "metadata": {
    "ExecuteTime": {
     "end_time": "2025-01-26T08:20:41.441560Z",
     "start_time": "2025-01-26T08:20:41.436737Z"
    }
   },
   "cell_type": "code",
   "source": [
    "# DATASET\n",
    "class LSTMDataset(Dataset):\n",
    "    def __init__(self, data, labels, sequence_length, transform=None):\n",
    "        self.data = data\n",
    "        self.labels = labels\n",
    "        self.sequence_length = sequence_length\n",
    "\n",
    "    def __len__(self):\n",
    "        return len(self.data)\n",
    "\n",
    "    def __getitem__(self, idx):\n",
    "        # X: shape (sequence_length, num_features)\n",
    "        X = self.data[idx : idx + self.sequence_length]\n",
    "        # y: label at the next time step\n",
    "        y = self.labels[idx + self.sequence_length]\n",
    "        return X, y"
   ],
   "id": "10c08a6bf173a7b3",
   "outputs": [],
   "execution_count": 2
  },
  {
   "metadata": {
    "ExecuteTime": {
     "end_time": "2025-01-26T08:22:53.911271Z",
     "start_time": "2025-01-26T08:22:53.871948Z"
    }
   },
   "cell_type": "code",
   "source": [
    "path = 'inputs/A'\n",
    "\n",
    "# TODO: Min-max/normalize data\n",
    "# TODO: Generalize to other stocks\n",
    "\n",
    "train_loaders = [] # [dataloader1, dataloader2, ...]\n",
    "test_loaders = []\n",
    "\n",
    "for i in range(1, 16):\n",
    "    data_df = pd.read_csv(f'{path}/{i}.csv', index_col=0)\n",
    "    data_df.drop(columns=['timestamp'], inplace=True)\n",
    "\n",
    "    X_df = data_df.drop(columns='label')\n",
    "    y_df = data_df['label']\n",
    "\n",
    "    X = torch.from_numpy(X_df.values)\n",
    "    y = torch.from_numpy(y_df.values)\n",
    "\n",
    "    dataloader = DataLoader(LSTMDataset(X, y, sequence_length=20), batch_size=64, shuffle=True)\n",
    "\n",
    "    train_loaders.append(dataloader)\n",
    "    test_loaders.append(dataloader)"
   ],
   "id": "cf5a149e1a685dcf",
   "outputs": [],
   "execution_count": 5
  },
  {
   "metadata": {},
   "cell_type": "markdown",
   "source": "## Training",
   "id": "c033d5fd5fb04e74"
  },
  {
   "metadata": {},
   "cell_type": "code",
   "outputs": [],
   "execution_count": null,
   "source": [
    "from LSTM import LSTM\n",
    "from LSTM  import LSTMTrainer"
   ],
   "id": "f5ad6c7e6fe733af"
  },
  {
   "metadata": {},
   "cell_type": "code",
   "outputs": [],
   "execution_count": null,
   "source": [
    "# MODEL\n",
    "device = 'cuda' if torch.cuda.is_available() else 'mps' if torch.mps.is_available() else 'cpu'\n",
    "\n",
    "model = LSTM(input_size=10, hidden_size=64, num_layers=1, dropout=0.2)\n",
    "optimizer = torch.optim.Adam(model.parameters(), lr=0.001)\n",
    "criterion = nn.CrossEntropyLoss()\n",
    "\n",
    "trainer = LSTMTrainer(model, train_loaders, test_loaders, optimizer, criterion, device, num_epochs=10)"
   ],
   "id": "40cbb588ff481df8"
  },
  {
   "metadata": {},
   "cell_type": "code",
   "outputs": [],
   "execution_count": null,
   "source": [
    "# TRAINING\n",
    "trainer.train()"
   ],
   "id": "ad611b749942061a"
  },
  {
   "metadata": {},
   "cell_type": "code",
   "outputs": [],
   "execution_count": null,
   "source": "",
   "id": "ba55b0a3e4fe1892"
  }
 ],
 "metadata": {
  "kernelspec": {
   "display_name": "Python 3",
   "language": "python",
   "name": "python3"
  },
  "language_info": {
   "codemirror_mode": {
    "name": "ipython",
    "version": 2
   },
   "file_extension": ".py",
   "mimetype": "text/x-python",
   "name": "python",
   "nbconvert_exporter": "python",
   "pygments_lexer": "ipython2",
   "version": "2.7.6"
  }
 },
 "nbformat": 4,
 "nbformat_minor": 5
}
